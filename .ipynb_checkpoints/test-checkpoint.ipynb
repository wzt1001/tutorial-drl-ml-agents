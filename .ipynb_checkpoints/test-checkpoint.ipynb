{
 "cells": [
  {
   "cell_type": "markdown",
   "metadata": {},
   "source": [
    "Before start, please install the ml-agent package using pip <br>\n",
    "**pip3 install mlagents** <br>\n",
    "Download sample virtual environment according to your system <br>\n",
    "https://www.dropbox.com/s/vtb189j3lmtx7bz/station1_linux.x86_64?dl=0"
   ]
  },
  {
   "cell_type": "code",
   "execution_count": 1,
   "metadata": {
    "scrolled": false
   },
   "outputs": [
    {
     "name": "stderr",
     "output_type": "stream",
     "text": [
      "INFO:mlagents.envs:\n",
      "'StationAcademy' started successfully!\n",
      "Unity Academy name: StationAcademy\n",
      "        Number of Brains: 1\n",
      "        Number of Training Brains : 1\n",
      "        Reset Parameters :\n",
      "\t\t\n",
      "Unity brain name: MazeLearningBrain\n",
      "        Number of Visual Observations (per agent): 2\n",
      "        Vector Observation space size (per agent): 3\n",
      "        Number of stacked Vector Observation: 6\n",
      "        Vector Action space type: discrete\n",
      "        Vector Action space size (per agent): [3, 3, 3]\n",
      "        Vector Action descriptions: , , \n"
     ]
    }
   ],
   "source": [
    "# importing necessary packages\n",
    "from mlagents.envs import UnityEnvironment\n",
    "import numpy as np\n",
    "import matplotlib.pyplot as plt\n",
    "\n",
    "# accessing environment\n",
    "train_mode = True  # Whether to run the environment in training or inference mode\n",
    "# env = UnityEnvironment(file_name=\"envs/python/gare_de_lyon\", worker_id=0, seed=1)\n",
    "env = UnityEnvironment(file_name=\"station1_linux.x86_64\", worker_id=0, seed=1)"
   ]
  },
  {
   "cell_type": "code",
   "execution_count": 2,
   "metadata": {},
   "outputs": [],
   "source": [
    "# predefined function\n",
    "def display_observation():\n",
    "    # Examine the observation space for the default brain\n",
    "    for observation in env_info.visual_observations:\n",
    "        observation = np.asarray(observation)\n",
    "        print(\"Agent observations look like:\")\n",
    "        if observation.shape[3] == 3:\n",
    "            plt.imshow(observation[0,:,:,:])\n",
    "        else:\n",
    "            plt.imshow(observation[0,:,:,0])"
   ]
  },
  {
   "cell_type": "code",
   "execution_count": 3,
   "metadata": {},
   "outputs": [
    {
     "name": "stdout",
     "output_type": "stream",
     "text": [
      "Number of agents: 1\n",
      "Number of actions: [3, 3, 3]\n"
     ]
    }
   ],
   "source": [
    "# Set the default brain to work with\n",
    "brain_name = env.brain_names[0]\n",
    "brain = env.brains[brain_name]\n",
    "\n",
    "# reset the environment\n",
    "env_info = env.reset(train_mode=True)[brain_name]\n",
    "\n",
    "# number of agents in the environment\n",
    "print('Number of agents:', len(env_info.agents))\n",
    "\n",
    "# number of actions\n",
    "action_size = brain.vector_action_space_size\n",
    "print('Number of actions:', action_size)"
   ]
  },
  {
   "cell_type": "code",
   "execution_count": 4,
   "metadata": {
    "scrolled": true
   },
   "outputs": [
    {
     "name": "stdout",
     "output_type": "stream",
     "text": [
      "Unity Academy name: StationAcademy\n",
      "        Number of Brains: 1\n",
      "        Number of Training Brains : 1\n",
      "        Reset Parameters :\n",
      "\t\t\n",
      "Unity brain name: MazeLearningBrain\n",
      "        Number of Visual Observations (per agent): 2\n",
      "        Vector Observation space size (per agent): 3\n",
      "        Number of stacked Vector Observation: 6\n",
      "        Vector Action space type: discrete\n",
      "        Vector Action space size (per agent): [3, 3, 3]\n",
      "        Vector Action descriptions: , , \n"
     ]
    }
   ],
   "source": [
    "# display some environment information\n",
    "print(str(env))"
   ]
  },
  {
   "cell_type": "code",
   "execution_count": 5,
   "metadata": {},
   "outputs": [
    {
     "data": {
      "image/png": "[encoded data removed]",
      "text/plain": [
       "<Figure size 432x288 with 1 Axes>"
      ]
     },
     "metadata": {
      "needs_background": "light"
     },
     "output_type": "display_data"
    }
   ],
   "source": [
    "# show visual input\n",
    "# env_info = env.reset(train_mode=True)[brain_name]\n",
    "img = np.asarray(env_info.visual_observations)\n",
    "imgplt = plt.imshow(img[0][0])"
   ]
  },
  {
   "cell_type": "markdown",
   "metadata": {},
   "source": [
    "for the action space: \n",
    "    \n",
    "act[0] value can be [0, 1, 2], as 1 for move ahead, 2 for move backward, 0 for not moving<br>\n",
    "act[1] value can be [0, 1, 2], as 1 for turn right 45 degrees, 2 for turn left 45 degrees, 0 for do not turn<br>\n",
    "act[2] value can be [0, 1, 2], as 1 for move right, 2 for move left, 0 for not moving<br>"
   ]
  },
  {
   "cell_type": "code",
   "execution_count": 16,
   "metadata": {
    "scrolled": true
   },
   "outputs": [],
   "source": [
    "# pass action into brain\n",
    "action = {'MazeLearningBrain':[0, 2, 1]}\n",
    "env_info = env.step(action, memory=None, text_action=None)\n",
    "next_state = np.asarray(env_info['MazeLearningBrain'].visual_observations)"
   ]
  },
  {
   "cell_type": "code",
   "execution_count": 17,
   "metadata": {},
   "outputs": [
    {
     "data": {
      "image/png": "[encoded data removed]",
      "text/plain": [
       "<Figure size 432x288 with 1 Axes>"
      ]
     },
     "metadata": {
      "needs_background": "light"
     },
     "output_type": "display_data"
    }
   ],
   "source": [
    "# show updated visual input\n",
    "imgplt = plt.imshow(next_state[0][0])"
   ]
  },
  {
   "cell_type": "code",
   "execution_count": 18,
   "metadata": {},
   "outputs": [
    {
     "data": {
      "text/plain": [
       "array([[0.10014948, 0.05      , 5.84974098, 0.0993955 , 0.05      ,\n",
       "        5.8357687 , 0.07688333, 0.05      , 5.81485653, 0.03924985,\n",
       "        0.05      , 5.82080746, 0.02233774, 0.05      , 5.85730124,\n",
       "        0.00957971, 0.05      , 5.85968256]])"
      ]
     },
     "execution_count": 18,
     "metadata": {},
     "output_type": "execute_result"
    }
   ],
   "source": [
    "# show current position\n",
    "env_info['MazeLearningBrain'].vector_observations"
   ]
  },
  {
   "cell_type": "code",
   "execution_count": 20,
   "metadata": {},
   "outputs": [],
   "source": [
    "# episode_rewards = 0\n",
    "# done = False\n",
    "# while not done:\n",
    "#     action_size = brain.vector_action_space_size\n",
    "#     if brain.vector_action_space_type == 'continuous':\n",
    "#         env_info = env.step(np.random.randn(len(env_info.agents), \n",
    "#                                             action_size[0]))[default_brain]\n",
    "#     else:\n",
    "#         action = np.column_stack([np.random.randint(0, action_size[i], size=(len(env_info.agents))) for i in range(len(action_size))])\n",
    "#         env_info = env.step(action)[default_brain]\n",
    "#     episode_rewards += env_info.rewards[0]\n",
    "#     done = env_info.local_done[0]\n",
    "\n",
    "# print(\"Total reward this episode: {}\".format(episode_rewards))"
   ]
  },
  {
   "cell_type": "code",
   "execution_count": null,
   "metadata": {},
   "outputs": [],
   "source": []
  }
 ],
 "metadata": {
  "kernelspec": {
   "display_name": "Python 3",
   "language": "python",
   "name": "python3"
  },
  "language_info": {
   "codemirror_mode": {
    "name": "ipython",
    "version": 3
   },
   "file_extension": ".py",
   "mimetype": "text/x-python",
   "name": "python",
   "nbconvert_exporter": "python",
   "pygments_lexer": "ipython3",
   "version": "3.6.8"
  }
 },
 "nbformat": 4,
 "nbformat_minor": 2
}
